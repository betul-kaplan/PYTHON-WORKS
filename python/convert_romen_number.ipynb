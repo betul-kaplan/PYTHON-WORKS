{
 "cells": [
  {
   "cell_type": "code",
   "execution_count": null,
   "metadata": {},
   "outputs": [],
   "source": []
  },
  {
   "cell_type": "markdown",
   "metadata": {},
   "source": [
    "# The program should convert only from numbers to Roman numerals, not vice versa and during the conversion\n",
    "# following notes should be taken into consideration.\n",
    "# Roman numerals are represented by seven different symbols: I, V, X, L, C, D and M.\n",
    "# When finding roman equivalent of the integer, we check the number to find the largest number which is bigger than 1000 in the integer.\n",
    "# Because the largest Roman number is 1000."
   ]
  },
  {
   "cell_type": "markdown",
   "metadata": {},
   "source": []
  },
  {
   "cell_type": "code",
   "execution_count": 3,
   "metadata": {},
   "outputs": [
    {
     "name": "stdout",
     "output_type": "stream",
     "text": [
      " This program converts decimal numbers to Roman Numerals \n",
      "To exit the program, please type \"exit\"\n",
      "Not Valid Input !!!\n",
      "Please enter a valid digit\n",
      "Not Valid Input !!!\n",
      "Please enter a valid digit\n",
      "CDLXVII\n"
     ]
    }
   ],
   "source": [
    "print (''' This program converts decimal numbers to Roman Numerals ''')\n",
    "print ('To exit the program, please type \"exit\"')\n",
    "\n",
    "def convert_romans(n):\n",
    "    num_list = [1,4,5,9,10,40,50,90,100,400,500,900,1000]\n",
    "    romans = ['I','IV','V','IX', 'X','XL', 'L','XC', 'C','CD', 'D','CM','M']\n",
    "    i = 12  \n",
    "    roman_numeral = ''\n",
    "    while n != 0:\n",
    "        if num_list[i] <= n:    \n",
    "            roman_numeral += romans[i] \n",
    "            n = n - num_list[i]\n",
    "        else:\n",
    "            i -= 1 \n",
    "    return roman_numeral\n",
    "     \n",
    "\n",
    "while True:\n",
    "    n= input(\" Please enter a number between 1 and 3999, inclusively : \")\n",
    "    if n==\"exit\":\n",
    "        print(\"Exiting the program... Good Bye\")\n",
    "        break\n",
    "    elif n.isdecimal()==False or int(n)<= 0 or int(n) >= 3999:\n",
    "        print(\"Not Valid Input !!!\")\n",
    "        print(\"Please enter a valid digit\")\n",
    "    else:\n",
    "        n=int(n)\n",
    "        print(convert_romans(n))   \n",
    "        break    "
   ]
  }
 ],
 "metadata": {
  "interpreter": {
   "hash": "26de051ba29f2982a8de78e945f0abaf191376122a1563185a90213a26c5da77"
  },
  "kernelspec": {
   "display_name": "Python 3.10.4 64-bit",
   "language": "python",
   "name": "python3"
  },
  "language_info": {
   "codemirror_mode": {
    "name": "ipython",
    "version": 3
   },
   "file_extension": ".py",
   "mimetype": "text/x-python",
   "name": "python",
   "nbconvert_exporter": "python",
   "pygments_lexer": "ipython3",
   "version": "3.10.4"
  },
  "orig_nbformat": 4
 },
 "nbformat": 4,
 "nbformat_minor": 2
}
