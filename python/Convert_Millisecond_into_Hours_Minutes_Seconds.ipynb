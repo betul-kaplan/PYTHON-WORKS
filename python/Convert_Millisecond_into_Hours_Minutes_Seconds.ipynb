{
 "cells": [
  {
   "cell_type": "markdown",
   "metadata": {},
   "source": [
    "Write program that converts the given milliseconds into hours, minutes, and seconds. The program should convert only from milliseconds to hours/minutes/seconds, not vice versa and during the conversion following notes should be taken into consideration.\n",
    "\n",
    "If the calculated time of hours is 0, it should not be shown in the output.\n",
    "\n",
    "If the calculated time of minutes is 0, it should not be shown in the output.\n",
    "\n",
    "If the calculated time of seconds is 0, it should not be shown in the output.\n",
    "\n",
    "If the milliseconds is greater than 1000, remainder milliseconds should not be shown in the output.\n",
    "\n",
    "If milliseconds given is less than 1000, only milliseconds should be shown in the output.\n",
    "\n",
    "Output should always be string in the format shown in the examples.\n",
    "\n",
    "Program should ask user for the input, after giving information text show as below.\n",
    "\n",
    "###  This program converts milliseconds into hours, minutes, and seconds ###\n",
    "(To exit the program, please type \"exit\")\n",
    "Please enter the milliseconds (should be greater than zero) :  \n",
    "User input can be either integer or string, thus the input should be checked for the followings,\n",
    "\n",
    "The input should be a decimal number greater then zero.\n",
    "\n",
    "If the input is less then 1, user should be warned and asked for input again.\n",
    "\n",
    "If the input is string and can not be converted to decimal number, user should be warned and asked for input again.\n",
    "\n",
    "Program should run until the user types exit in case insensitive manner.\n",
    "\n"
   ]
  },
  {
   "cell_type": "code",
   "execution_count": 4,
   "metadata": {},
   "outputs": [
    {
     "name": "stdout",
     "output_type": "stream",
     "text": [
      "This program converts milliseconds into hours, minutes, and seconds\n",
      "To exit the program, please type 'Exit!'\n",
      "your given milli second is =  0.00011111111111111112 hour, 0.006666666666666667 minute,0.4 second\n"
     ]
    }
   ],
   "source": [
    "print(\"This program converts milliseconds into hours, minutes, and seconds\")\n",
    "print(\"To exit the program, please type 'Exit!'\")\n",
    "\n",
    "\n",
    "def timeConv(n):\n",
    "\n",
    "    hours =  (n / 3600000)%24\n",
    "    minutes =(n / 60000)%60\n",
    "    seconds = (n / 1000)%60\n",
    "    \n",
    "    if  hours!=0 and minutes !=0 and seconds !=0:\n",
    "        return (f\"{hours} hour, {minutes} minute,{seconds} second\" )\n",
    "    if  hours==0 and minutes !=0 and seconds !=0:\n",
    "        return (f\"{minutes} minute,{seconds} second\" )\n",
    "    if  hours!=0 and minutes ==0 and seconds ==0:\n",
    "        return (f\"{hours} hour\" )\n",
    "    if  hours==0 and minutes ==0 and seconds !=0:\n",
    "        return (f\"{seconds} second\" )\n",
    "    if  hours==0 and minutes !=0 and seconds ==0:\n",
    "        return (f\"{minutes} minute\" )\n",
    "    if  hours!=0 and minutes ==0 and seconds !=0:\n",
    "        return (f\"{hours} hour, {seconds} second\" )\n",
    "    if  hours!=0 and minutes !=0 and seconds ==0:\n",
    "        return (f\"{hours} hour, {minutes} minute\" )\n",
    "    if int(n) < 1000:\n",
    "        return (f\"Just {n} millisecond\")\n",
    "                \n",
    "while True:\n",
    "    n=input(\"Enter time in milliseconds  :\")\n",
    "    if n == \"Exit\":\n",
    "        print(\"Exiting this program GOODBYE!\")\n",
    "        break\n",
    "   \n",
    "    elif n.isdigit()==False or int(n)<=0:\n",
    "        print(\"not valid!!\")\n",
    "        print(\"Please enter a valid time in milliseconds\")\n",
    "    else:\n",
    "        n=int(n) \n",
    "        print(\"your given milli second is = \",timeConv(n))\n",
    "\n",
    "        break         \n",
    "\n",
    "  \n",
    "\n",
    "\n",
    "\n"
   ]
  },
  {
   "cell_type": "markdown",
   "metadata": {},
   "source": [
    "2. solution :"
   ]
  },
  {
   "cell_type": "code",
   "execution_count": 5,
   "metadata": {},
   "outputs": [
    {
     "name": "stdout",
     "output_type": "stream",
     "text": [
      "minutes = 300\n",
      "seconds = 18000\n"
     ]
    }
   ],
   "source": [
    "print (\"\"\" This program converts milliseconds into hours, minutes, and seconds\\n\n",
    "To exit the program, please type 'exit' \"\"\")\n",
    "​\n",
    "value= input(\"Please enter the milliseconds (should be greater than zero) :  \")\n",
    "def convert(value):\n",
    "    hours = int(int(value) / (1000*60*60))%24\n",
    "    minutes =int (int(value) / (1000*60))%60\n",
    "    seconds = int(int(value) / 1000)%60\n",
    "    \n",
    "    if  hours!=0 and minutes !=0 and seconds !=0:\n",
    "        return (f\"{hours} hour/s, {minutes} minute/s,{seconds} second/s\" )\n",
    "    elif  hours==0 and minutes !=0 and seconds !=0:\n",
    "        return (f\"{minutes} minute/s,{seconds} second/s\" )\n",
    "    elif  hours!=0 and minutes ==0 and seconds ==0:\n",
    "        return (f\"{hours} hour/s\" )\n",
    "    elif  hours==0 and minutes ==0 and seconds !=0:\n",
    "        return (f\"{seconds} second/s\" )\n",
    "    elif  hours==0 and minutes !=0 and seconds ==0:\n",
    "        return (f\"{minutes} minute/s\" )\n",
    "    elif  hours!=0 and minutes ==0 and seconds !=0:\n",
    "        return (f\"{hours} hour/s, {seconds} second/s\" )\n",
    "    elif  hours!=0 and minutes !=0 and seconds ==0:\n",
    "        return (f\"{hours} hour/s, {minutes} minute/s\" )\n",
    "    elif int(value) < 1000:\n",
    "        return (f\"Just {value} millisecond/s\")\n",
    "       \n",
    "       \n",
    "while True:\n",
    "    \n",
    "    if value.lower() == \"exit\":\n",
    "        break\n",
    "    \n",
    "    elif value.isdecimal() == False:\n",
    "        print (\" Your input is invalid\")\n",
    "        print (\" Please enter a valid number\")\n",
    "        value= input(\"Please enter the milliseconds (should be greater than zero) :  \")\n",
    "        \n",
    "    elif int(value) < 1:\n",
    "         print (\" Your input is invalid\")\n",
    "         print (\" Please enter a valid number\")\n",
    "         value= input(\"Please enter the milliseconds (should be greater than zero) :  \")\n",
    " \n",
    "    else: \n",
    "        print(convert(value))\n",
    "        break\n",
    "\n",
    "    "
   ]
  }
 ],
 "metadata": {
  "interpreter": {
   "hash": "26de051ba29f2982a8de78e945f0abaf191376122a1563185a90213a26c5da77"
  },
  "kernelspec": {
   "display_name": "Python 3.10.4 64-bit",
   "language": "python",
   "name": "python3"
  },
  "language_info": {
   "codemirror_mode": {
    "name": "ipython",
    "version": 3
   },
   "file_extension": ".py",
   "mimetype": "text/x-python",
   "name": "python",
   "nbconvert_exporter": "python",
   "pygments_lexer": "ipython3",
   "version": "3.10.4"
  },
  "orig_nbformat": 4
 },
 "nbformat": 4,
 "nbformat_minor": 2
}
