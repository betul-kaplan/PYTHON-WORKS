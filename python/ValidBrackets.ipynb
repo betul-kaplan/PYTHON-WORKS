{
 "cells": [
  {
   "cell_type": "markdown",
   "metadata": {},
   "source": [
    " Validate Combination of Brackets\n",
    "Purpose of the this coding challenge is to solve a combination problem using loops.\n",
    "\n",
    "Learning Outcomes\n",
    "At the end of the this coding challenge, students will be able to;\n",
    "\n",
    "understand the use of loops.\n",
    "solve the advanced and complicated problems.\n",
    "understand the importance of pattern recognition.\n",
    "get a better understanding in manipulating lists or strings.\n",
    "Problem Statement\n",
    "Write a function that given a string containing just the characters (, ), {, }, [ and ], determines if the input string is valid or not by using following rules.\n",
    "\n",
    "An input string is valid if:\n",
    "\n",
    "Open brackets must be closed by the same type of brackets.\n",
    "\n",
    "Open brackets must be closed in the correct order.\n",
    "\n",
    "Note that an empty string is also considered valid.\n",
    "\n",
    "Example for user inputs and respective outputs\n",
    "\n",
    "Input           Output\n",
    "------------    ------\n",
    "\"()\"            true\n",
    "\"()[]{}\"        true\n",
    "\"(]\"            false\n",
    "\"([)]\"          false\n",
    "\"{[]}\"          true\n",
    "\"\"              true"
   ]
  },
  {
   "cell_type": "code",
   "execution_count": null,
   "metadata": {},
   "outputs": [],
   "source": [
    "def isValid(str)  :\n",
    "    while \"()\" in str or \"[]\" in str or \"{}\" in str :\n",
    "        str = str.replace(\"()\",\"\").replace(\"[]\",\"\").replace(\"{}\",\"\")\n",
    "    return str ==\"\"  \n",
    "isValid(\"([{()}])\")"
   ]
  }
 ],
 "metadata": {
  "language_info": {
   "name": "python"
  },
  "orig_nbformat": 4
 },
 "nbformat": 4,
 "nbformat_minor": 2
}
